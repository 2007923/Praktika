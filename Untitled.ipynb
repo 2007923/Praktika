{
 "cells": [
  {
   "cell_type": "markdown",
   "id": "9500fc53",
   "metadata": {},
   "source": [
    "![tittle](https://scikit-learn.org/stable/_images/sphx_glr_plot_iris_dataset_001.png)"
   ]
  }
 ],
 "metadata": {
  "kernelspec": {
   "display_name": "Python 3 (ipykernel)",
   "language": "python",
   "name": "python3"
  },
  "language_info": {
   "codemirror_mode": {
    "name": "ipython",
    "version": 3
   },
   "file_extension": ".py",
   "mimetype": "text/x-python",
   "name": "python",
   "nbconvert_exporter": "python",
   "pygments_lexer": "ipython3",
   "version": "3.10.5"
  }
 },
 "nbformat": 4,
 "nbformat_minor": 5
}
